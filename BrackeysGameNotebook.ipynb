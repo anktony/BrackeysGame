{
 "metadata": {
  "kernelspec": {
   "display_name": ".NET (C#)",
   "language": "C#",
   "name": ".net-csharp"
  },
  "language_info": {
   "name": "C#"
  }
 },
 "cells": [
  {
   "cell_type": "markdown",
   "source": [
    "# Atalhos\r\n",
    "* select object + F --> quick focus;\r\n",
    "* rightclick Transform > reset --> resetar posição(0,0,0);\r\n",
    "* ctrl + D --> duplicar;\r\n",
    "* shift + space --> arternar tela cheia da janela selecionada;\r\n",
    "* ctrl +s --> salvar"
   ],
   "metadata": {}
  },
  {
   "cell_type": "markdown",
   "source": [
    "---\r\n",
    "# Códigos"
   ],
   "metadata": {}
  },
  {
   "cell_type": "code",
   "execution_count": null,
   "source": [
    "Debug.Log(\"Hello World!\"); //--> Print mensagem no console\r\n",
    "Rigidbody.useGravity = true/false; //--> habilitar/desabilitar gravidade do objeto.\r\n",
    "Rigidbody.AddForce(0,0,0);//--> aplica uma força sobre o objeto;\r\n",
    "FixedUpdate(){/* */};// --> usado no lugar de Update quando estiver usando física;\r\n",
    "Transform.position//--> retorna a posição do objeto intanciado;\r\n",
    "Collision.collider.tag/name //->  retorna a tag/nome do objeto colidido;\r\n",
    "instanciaDoScript.enabled = false/true //-> ativa/desativa script; \"instanciaDoScript\" é uma referencia(variavel) ao script\r\n",
    "ForceMode.VelocityChange //--> modo de força que acrescenta gradualmente a velocidade. recomenda-se usá-lo junto com DRAG.\r\n",
    "Transform.position.x/y/z //-> retorna a posição x/y/z do objeto instanciado.\r\n",
    ".ToString() //-> Built in method; Converte uma variável numérica para string;\r\n",
    ".ToString(\"0\") //-> o parâmetro \"0\" faz com que a conversão seja feita apenas para números inteiros;\r\n",
    "GetComponent<NomeDoComponente>(). //-> alternativa ao uso de referências; Retorna componente com o nome passado; Permite acessar um component no objeto;\r\n",
    "FindObjectOfType<NomeDoTipo/*(script)*/>(). //-> forma de procurar por scripts; Permite acessar o conteúdo do script(apenas o que for public); \r\n",
    "SceneManager.LoadScene() //-> carrega a scene passada como parâmetro;\r\n",
    "SceneManager.GetActiveScene().name //-> Retorna o nome da scene atual;\r\n",
    "Invoke(\"NomeDaFunção\", DelayEmSegundos) //-> método para invocar uma função, depois de um certo delay;\r\n",
    "void OnTriggerEnter(){} //-> Executa quando um trigger é disparado; \r\n",
    "GameObject.SetActive(true/false)//-> ativa/desative gameobject(presença);"
   ],
   "outputs": [],
   "metadata": {
    "dotnet_interactive": {
     "language": "csharp"
    }
   }
  },
  {
   "cell_type": "markdown",
   "source": [
    "---\r\n",
    "# Caminhos\r\n",
    "* Rigidbody > constraints(x,y,z):  usado para fixar a rotação ou a movimentação de algum eixo.\r\n",
    "*  RigidBody > Drag: resistencia do ar;\r\n",
    "* Canvas > UI Scale Mode: usado para definir como os elementos UI irão escalar com o tamanho da tela;\r\n",
    "* file > build settings: lista de scenes e configurações para exportar o game;\r\n",
    "* Box collider > is triger: propriedade que transforma o objeto em um trigger;"
   ],
   "metadata": {}
  },
  {
   "cell_type": "markdown",
   "source": [
    "---\r\n",
    "# Conceitos e Expressões\r\n",
    "* physics material: Material usado para ajustar friction e bounciness;\r\n",
    "* Canvas: Área que exibe elementos de UI;\r\n",
    "* pixelperfect: Ensures your pixel art remains crisp and clear at different resolutions, and stable in motion. \r\n",
    "* expressão \"is sitting on\": referente ao local/objeto que algo está atrelado.\r\n",
    "panel: elemento Canvas que cobre a tela inteira; usado para menus e telas de créditos, info, etc;\r\n"
   ],
   "metadata": {}
  },
  {
   "cell_type": "markdown",
   "source": [
    "---\r\n",
    "# Observações:\r\n",
    "* sempre que for trabalhar com UI Elements é necessario importar UnityEgine.UI;\r\n",
    "* para trabalhar com load/reload e outras ações relacionadas a scenes é necessário importar UnityEngine.SceneManagement;"
   ],
   "metadata": {}
  }
 ],
 "nbformat": 4,
 "nbformat_minor": 2
}