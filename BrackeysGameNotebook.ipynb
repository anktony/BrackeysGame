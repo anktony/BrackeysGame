{
 "metadata": {
  "kernelspec": {
   "display_name": ".NET (C#)",
   "language": "C#",
   "name": ".net-csharp"
  },
  "language_info": {
   "name": "C#"
  }
 },
 "cells": [
  {
   "cell_type": "markdown",
   "source": [
    "# Atalhos\r\n",
    "* select object + F --> quick focus;\r\n",
    "* rightclick Transform > reset --> resetar posição(0,0,0);\r\n",
    "* ctrl + D --> duplicar;\r\n",
    "* shift + space --> arternar tela cheia da janela selecionada;\r\n",
    "* ctrl +s --> salvar"
   ],
   "metadata": {}
  },
  {
   "cell_type": "markdown",
   "source": [
    "# Códigos"
   ],
   "metadata": {}
  },
  {
   "cell_type": "code",
   "execution_count": null,
   "source": [
    "Debug.Log(\"Hello World!\"); //--> Print mensagem no console\r\n",
    "Rigidbody.useGravity = true/false; //--> habilitar/desabilitar gravidade do objeto.\r\n",
    "Rigidbody.AddForce(0,0,0);//--> aplica uma força sobre o objeto;\r\n",
    "FixedUpdate(){/* */};// --> usado no lugar de Update quando estiver usando física;\r\n",
    "Transform.position//--> retorna a posição do objeto intanciado;\r\n",
    "Collision.collider.tag/name //->  retorna a tag/nome do objeto colidido;\r\n",
    "instanciaDoScript.enabled = false/true //-> ativa/desativa script; \"instanciaDoScript\" é uma referencia(variavel) ao script\r\n",
    "ForceMode.VelocityChange //--> modo de força que acrescenta gradualmente a velocidade. recomenda-se usá-lo junto com DRAG.\r\n"
   ],
   "outputs": [],
   "metadata": {
    "dotnet_interactive": {
     "language": "csharp"
    }
   }
  },
  {
   "cell_type": "markdown",
   "source": [
    "# Caminhos\r\n",
    "* Rigidbody > constraints(x,y,z) -> usado para fixar a rotação ou a movimentação de algum eixo.\r\n",
    "*  RigidBody > Drag -> resistencia do ar;"
   ],
   "metadata": {}
  },
  {
   "cell_type": "markdown",
   "source": [
    "# Conceitos\r\n",
    "* physics material: material usado para ajustar friction e bounciness;"
   ],
   "metadata": {}
  }
 ],
 "nbformat": 4,
 "nbformat_minor": 2
}